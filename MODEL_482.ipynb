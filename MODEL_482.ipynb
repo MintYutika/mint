{
 "cells": [
  {
   "cell_type": "code",
   "execution_count": 1,
   "id": "72b9423d",
   "metadata": {},
   "outputs": [
    {
     "name": "stdout",
     "output_type": "stream",
     "text": [
      "WOE Education -> {0: -0.3024010214130441, 1: 0.08707299360422699}\n",
      "WOE Self_Employed -> {0: -0.10702026707619076, 1: 0.016773950270473608}\n",
      "WOE Credit_History -> {0.0: -3.175073202209808, 1.0: 0.5415430068757282}\n",
      "WOE Property_Area -> {1: -0.1398531571486983, 2: -0.3938413838140067, 3: 0.48947415124459764}\n",
      "WOE APPLICANTINCOME_BIN -> {Interval(9327.5, 81000.0, closed='right'): -0.28008249845734856, Interval(2222.6, 2601.8, closed='right'): 0.16670075898154685, Interval(4352.4, 5179.6, closed='right'): -0.2229240846174, Interval(2601.8, 3055.0, closed='right'): 0.2749143436217797, Interval(3418.0, 3848.0, closed='right'): -0.16229946280096516, Interval(6250.0, 9327.5, closed='right'): 0.03375228680489156, Interval(3848.0, 4352.4, closed='right'): 0.06360524995457266, Interval(149.999, 2222.6, closed='right'): -0.005387621532378887, Interval(3055.0, 3418.0, closed='right'): 0.09259278682782489, Interval(5179.6, 6250.0, closed='right'): 0.09259278682782489}\n",
      "WOE COAPPLICANTINCOME_BIN -> {Interval(2525.6, 3791.4, closed='right'): -0.13055076448638475, Interval(-0.001, 1188.5, closed='right'): -0.029198270226097344, Interval(1698.0, 2083.0, closed='right'): 0.12076366379452134, Interval(3791.4, 20000.0, closed='right'): -0.19117538630281974, Interval(1188.5, 1698.0, closed='right'): -0.03524058468205992, Interval(2083.0, 2525.6, closed='right'): 0.45723590041573403}\n",
      "WOE LOANAMOUNT_BIN -> {Interval(176.0, 225.0, closed='right'): -0.09977910581963106, Interval(154.0, 176.0, closed='right'): -0.3128723212803394, Interval(116.0, 126.5, closed='right'): 0.5625964160735606, Interval(73.1, 95.0, closed='right'): -0.005387621532378887, Interval(136.0, 154.0, closed='right'): 0.2749143436217797, Interval(225.0, 700.0, closed='right'): -0.5235933525959923, Interval(109.0, 116.0, closed='right'): -0.06992614266995002, Interval(126.5, 136.0, closed='right'): 0.2008063714680576, Interval(16.999, 73.1, closed='right'): -0.005387621532378887, Interval(95.0, 109.0, closed='right'): 0.16670075898154685}\n",
      "WOE LOAN_AMOUNT_TERM_BIN -> {Interval(11.999, 300.0, closed='right'): 0.11728539941819638, Interval(300.0, 360.0, closed='right'): 0.03399862256177205, Interval(360.0, 480.0, closed='right'): -1.5168451256062754}\n"
     ]
    },
    {
     "data": {
      "text/html": [
       "<div>\n",
       "<style scoped>\n",
       "    .dataframe tbody tr th:only-of-type {\n",
       "        vertical-align: middle;\n",
       "    }\n",
       "\n",
       "    .dataframe tbody tr th {\n",
       "        vertical-align: top;\n",
       "    }\n",
       "\n",
       "    .dataframe thead th {\n",
       "        text-align: right;\n",
       "    }\n",
       "</style>\n",
       "<table border=\"1\" class=\"dataframe\">\n",
       "  <thead>\n",
       "    <tr style=\"text-align: right;\">\n",
       "      <th></th>\n",
       "      <th>Loan_Status</th>\n",
       "      <th>Education_WOE</th>\n",
       "      <th>Self_Employed_WOE</th>\n",
       "      <th>Credit_History_WOE</th>\n",
       "      <th>Property_Area_WOE</th>\n",
       "      <th>APPLICANTINCOME_BIN_WOE</th>\n",
       "      <th>COAPPLICANTINCOME_BIN_WOE</th>\n",
       "      <th>LOANAMOUNT_BIN_WOE</th>\n",
       "      <th>LOAN_AMOUNT_TERM_BIN_WOE</th>\n",
       "    </tr>\n",
       "  </thead>\n",
       "  <tbody>\n",
       "    <tr>\n",
       "      <th>1</th>\n",
       "      <td>0</td>\n",
       "      <td>0.087073</td>\n",
       "      <td>0.016774</td>\n",
       "      <td>0.541543</td>\n",
       "      <td>-0.393841</td>\n",
       "      <td>-0.222924</td>\n",
       "      <td>-0.035241</td>\n",
       "      <td>0.200806</td>\n",
       "      <td>0.033999</td>\n",
       "    </tr>\n",
       "    <tr>\n",
       "      <th>2</th>\n",
       "      <td>1</td>\n",
       "      <td>0.087073</td>\n",
       "      <td>-0.107020</td>\n",
       "      <td>0.541543</td>\n",
       "      <td>-0.139853</td>\n",
       "      <td>0.274914</td>\n",
       "      <td>-0.029198</td>\n",
       "      <td>-0.005388</td>\n",
       "      <td>0.033999</td>\n",
       "    </tr>\n",
       "    <tr>\n",
       "      <th>3</th>\n",
       "      <td>1</td>\n",
       "      <td>-0.302401</td>\n",
       "      <td>0.016774</td>\n",
       "      <td>0.541543</td>\n",
       "      <td>-0.139853</td>\n",
       "      <td>0.166701</td>\n",
       "      <td>0.457236</td>\n",
       "      <td>0.562596</td>\n",
       "      <td>0.033999</td>\n",
       "    </tr>\n",
       "    <tr>\n",
       "      <th>4</th>\n",
       "      <td>1</td>\n",
       "      <td>0.087073</td>\n",
       "      <td>0.016774</td>\n",
       "      <td>0.541543</td>\n",
       "      <td>-0.139853</td>\n",
       "      <td>0.092593</td>\n",
       "      <td>-0.029198</td>\n",
       "      <td>0.274914</td>\n",
       "      <td>0.033999</td>\n",
       "    </tr>\n",
       "    <tr>\n",
       "      <th>5</th>\n",
       "      <td>1</td>\n",
       "      <td>0.087073</td>\n",
       "      <td>-0.107020</td>\n",
       "      <td>0.541543</td>\n",
       "      <td>-0.139853</td>\n",
       "      <td>0.092593</td>\n",
       "      <td>-0.191175</td>\n",
       "      <td>-0.523593</td>\n",
       "      <td>0.033999</td>\n",
       "    </tr>\n",
       "    <tr>\n",
       "      <th>...</th>\n",
       "      <td>...</td>\n",
       "      <td>...</td>\n",
       "      <td>...</td>\n",
       "      <td>...</td>\n",
       "      <td>...</td>\n",
       "      <td>...</td>\n",
       "      <td>...</td>\n",
       "      <td>...</td>\n",
       "      <td>...</td>\n",
       "    </tr>\n",
       "    <tr>\n",
       "      <th>495</th>\n",
       "      <td>1</td>\n",
       "      <td>0.087073</td>\n",
       "      <td>0.016774</td>\n",
       "      <td>0.541543</td>\n",
       "      <td>0.489474</td>\n",
       "      <td>0.092593</td>\n",
       "      <td>-0.029198</td>\n",
       "      <td>0.166701</td>\n",
       "      <td>0.117285</td>\n",
       "    </tr>\n",
       "    <tr>\n",
       "      <th>496</th>\n",
       "      <td>1</td>\n",
       "      <td>-0.302401</td>\n",
       "      <td>0.016774</td>\n",
       "      <td>0.541543</td>\n",
       "      <td>-0.393841</td>\n",
       "      <td>0.166701</td>\n",
       "      <td>0.120764</td>\n",
       "      <td>0.166701</td>\n",
       "      <td>0.033999</td>\n",
       "    </tr>\n",
       "    <tr>\n",
       "      <th>497</th>\n",
       "      <td>1</td>\n",
       "      <td>0.087073</td>\n",
       "      <td>0.016774</td>\n",
       "      <td>0.541543</td>\n",
       "      <td>-0.139853</td>\n",
       "      <td>-0.222924</td>\n",
       "      <td>-0.130551</td>\n",
       "      <td>-0.069926</td>\n",
       "      <td>0.117285</td>\n",
       "    </tr>\n",
       "    <tr>\n",
       "      <th>498</th>\n",
       "      <td>1</td>\n",
       "      <td>0.087073</td>\n",
       "      <td>-0.107020</td>\n",
       "      <td>0.541543</td>\n",
       "      <td>0.489474</td>\n",
       "      <td>0.274914</td>\n",
       "      <td>-0.029198</td>\n",
       "      <td>-0.005388</td>\n",
       "      <td>0.033999</td>\n",
       "    </tr>\n",
       "    <tr>\n",
       "      <th>499</th>\n",
       "      <td>0</td>\n",
       "      <td>0.087073</td>\n",
       "      <td>0.016774</td>\n",
       "      <td>-3.175073</td>\n",
       "      <td>-0.393841</td>\n",
       "      <td>0.033752</td>\n",
       "      <td>-0.191175</td>\n",
       "      <td>-0.099779</td>\n",
       "      <td>0.033999</td>\n",
       "    </tr>\n",
       "  </tbody>\n",
       "</table>\n",
       "<p>482 rows × 9 columns</p>\n",
       "</div>"
      ],
      "text/plain": [
       "    Loan_Status  Education_WOE  Self_Employed_WOE  Credit_History_WOE  \\\n",
       "1             0       0.087073           0.016774            0.541543   \n",
       "2             1       0.087073          -0.107020            0.541543   \n",
       "3             1      -0.302401           0.016774            0.541543   \n",
       "4             1       0.087073           0.016774            0.541543   \n",
       "5             1       0.087073          -0.107020            0.541543   \n",
       "..          ...            ...                ...                 ...   \n",
       "495           1       0.087073           0.016774            0.541543   \n",
       "496           1      -0.302401           0.016774            0.541543   \n",
       "497           1       0.087073           0.016774            0.541543   \n",
       "498           1       0.087073          -0.107020            0.541543   \n",
       "499           0       0.087073           0.016774           -3.175073   \n",
       "\n",
       "     Property_Area_WOE  APPLICANTINCOME_BIN_WOE  COAPPLICANTINCOME_BIN_WOE  \\\n",
       "1            -0.393841                -0.222924                  -0.035241   \n",
       "2            -0.139853                 0.274914                  -0.029198   \n",
       "3            -0.139853                 0.166701                   0.457236   \n",
       "4            -0.139853                 0.092593                  -0.029198   \n",
       "5            -0.139853                 0.092593                  -0.191175   \n",
       "..                 ...                      ...                        ...   \n",
       "495           0.489474                 0.092593                  -0.029198   \n",
       "496          -0.393841                 0.166701                   0.120764   \n",
       "497          -0.139853                -0.222924                  -0.130551   \n",
       "498           0.489474                 0.274914                  -0.029198   \n",
       "499          -0.393841                 0.033752                  -0.191175   \n",
       "\n",
       "     LOANAMOUNT_BIN_WOE  LOAN_AMOUNT_TERM_BIN_WOE  \n",
       "1              0.200806                  0.033999  \n",
       "2             -0.005388                  0.033999  \n",
       "3              0.562596                  0.033999  \n",
       "4              0.274914                  0.033999  \n",
       "5             -0.523593                  0.033999  \n",
       "..                  ...                       ...  \n",
       "495            0.166701                  0.117285  \n",
       "496            0.166701                  0.033999  \n",
       "497           -0.069926                  0.117285  \n",
       "498           -0.005388                  0.033999  \n",
       "499           -0.099779                  0.033999  \n",
       "\n",
       "[482 rows x 9 columns]"
      ]
     },
     "execution_count": 1,
     "metadata": {},
     "output_type": "execute_result"
    }
   ],
   "source": [
    "import pandas as pd\n",
    "import numpy as np\n",
    "import seaborn as sb\n",
    "\n",
    "data = pd.read_pickle('binning1.pickle')\n",
    "\n",
    "def num_event(event, dataframe ,field, val):\n",
    "    if event == 'good':\n",
    "        event = 1\n",
    "    else:\n",
    "        event = 0\n",
    "    cond_main = dataframe[field] == val\n",
    "    cond_event = dataframe['Loan_Status'] == event\n",
    "    n = len(dataframe[cond_main & cond_event].index)\n",
    "    return n\n",
    "\n",
    "\n",
    "def dist_event(event, dataframe ,field, val):\n",
    "    n = num_event(event, dataframe, field, val)\n",
    "    sumd = 0\n",
    "    all_elements = set(dataframe[field].to_numpy())\n",
    "    for a in all_elements:\n",
    "        s = num_event(event, dataframe, field, a)\n",
    "        sumd = sumd + s\n",
    "    return n/sumd\n",
    "\n",
    "def WOE(dataframe, field, val):\n",
    "    dg = dist_event('good', dataframe, field, val)\n",
    "    db = dist_event('bad', dataframe, field, val)\n",
    "    w = np.log(dg / db)\n",
    "    return w\n",
    "\n",
    "dt_train = pd.DataFrame()\n",
    "dt_train['Loan_Status'] = data['Loan_Status']\n",
    "ATTRS = ['Education','Self_Employed','Credit_History','Property_Area','APPLICANTINCOME_BIN','COAPPLICANTINCOME_BIN','LOANAMOUNT_BIN','LOAN_AMOUNT_TERM_BIN']\n",
    "\n",
    "\n",
    "NEW_WOE_ATTRS=[]\n",
    "for attr in ATTRS:\n",
    "    attr_element = set(data[attr].to_numpy())\n",
    "    attr_woe = dict()\n",
    "    for i in attr_element:\n",
    "        w = WOE(data, attr, i)\n",
    "        attr_woe[i] = w\n",
    "        NEW_WOE_ATTRS.append( attr_woe[i])\n",
    "    print(f'WOE {attr} -> {attr_woe}')\n",
    "    \n",
    "\n",
    "    lst = []\n",
    "    for s in data[attr]:\n",
    "        woe = attr_woe[s]\n",
    "        lst.append(woe)\n",
    "\n",
    "    new_field = attr + '_WOE'\n",
    "    dt_train[new_field] = lst\n",
    "\n",
    "\n",
    "dt_train"
   ]
  },
  {
   "cell_type": "code",
   "execution_count": 2,
   "id": "2734ad39",
   "metadata": {},
   "outputs": [
    {
     "data": {
      "text/plain": [
       "array([[ 1.        ,  0.08707299,  0.01677395, ..., -0.03524058,\n",
       "         0.20080637,  0.03399862],\n",
       "       [ 1.        ,  0.08707299, -0.10702027, ..., -0.02919827,\n",
       "        -0.00538762,  0.03399862],\n",
       "       [ 1.        , -0.30240102,  0.01677395, ...,  0.4572359 ,\n",
       "         0.56259642,  0.03399862],\n",
       "       ...,\n",
       "       [ 1.        ,  0.08707299,  0.01677395, ..., -0.13055076,\n",
       "        -0.06992614,  0.1172854 ],\n",
       "       [ 1.        ,  0.08707299, -0.10702027, ..., -0.02919827,\n",
       "        -0.00538762,  0.03399862],\n",
       "       [ 1.        ,  0.08707299,  0.01677395, ..., -0.19117539,\n",
       "        -0.09977911,  0.03399862]])"
      ]
     },
     "execution_count": 2,
     "metadata": {},
     "output_type": "execute_result"
    }
   ],
   "source": [
    "Y =  dt_train['Loan_Status'].to_numpy()\n",
    "x_1 = dt_train['Education_WOE'].to_numpy()\n",
    "x_2 = dt_train['Self_Employed_WOE'].to_numpy()\n",
    "x_3 = dt_train['Credit_History_WOE'].to_numpy()\n",
    "x_4 = dt_train['Property_Area_WOE'].to_numpy()\n",
    "x_5 = dt_train['APPLICANTINCOME_BIN_WOE'].to_numpy()\n",
    "x_6 = dt_train['COAPPLICANTINCOME_BIN_WOE'].to_numpy()\n",
    "x_7 = dt_train['LOANAMOUNT_BIN_WOE'].to_numpy()\n",
    "x_8 = dt_train['LOAN_AMOUNT_TERM_BIN_WOE'].to_numpy()\n",
    "\n",
    "\n",
    "array_ones = np.ones(x_1.shape)\n",
    "\n",
    "X = np.array([array_ones, x_1,x_2,x_3,x_4,x_5,x_6,x_7,x_8])\n",
    "X = np.transpose(X)\n",
    "X"
   ]
  },
  {
   "cell_type": "code",
   "execution_count": 3,
   "id": "7f568d55",
   "metadata": {},
   "outputs": [
    {
     "data": {
      "text/plain": [
       "array([[ 4.82000000e+02,  2.24283339e+00,  1.62214120e-01,\n",
       "         4.57721089e+00,  1.35906159e+01,  2.59456082e+00,\n",
       "         2.70867280e+00,  7.51721474e+00,  2.52455738e+00],\n",
       "       [ 2.24283339e+00,  1.22085789e+01,  2.27614897e-02,\n",
       "         9.28305886e+00,  1.96679080e+00, -1.55757390e+00,\n",
       "        -7.01978889e-01, -3.22740316e+00,  6.48969565e-02],\n",
       "       [ 1.62214120e-01,  2.27614897e-02,  8.50624345e-01,\n",
       "        -7.29148717e-02,  1.72983690e-01,  3.12126504e-01,\n",
       "         1.37294418e-01,  3.22419839e-01, -1.48447651e-01],\n",
       "       [ 4.57721089e+00,  9.28305886e+00, -7.29148717e-02,\n",
       "         8.16715225e+02,  1.25349493e+01, -1.41910741e+00,\n",
       "         2.77935693e+00, -2.95568725e+00,  1.19893522e+01],\n",
       "       [ 1.35906159e+01,  1.96679080e+00,  1.72983690e-01,\n",
       "         1.25349493e+01,  6.84828255e+01,  2.71348307e-01,\n",
       "         1.42781314e+00,  2.28226636e-02, -1.50044201e+00],\n",
       "       [ 2.59456082e+00, -1.55757390e+00,  3.12126504e-01,\n",
       "        -1.41910741e+00,  2.71348307e-01,  1.35182327e+01,\n",
       "         1.93546585e+00,  4.00509947e+00, -4.42675478e-01],\n",
       "       [ 2.70867280e+00, -7.01978889e-01,  1.37294418e-01,\n",
       "         2.77935693e+00,  1.42781314e+00,  1.93546585e+00,\n",
       "         1.32201824e+01,  4.63531467e+00,  4.39486397e-01],\n",
       "       [ 7.51721474e+00, -3.22740316e+00,  3.22419839e-01,\n",
       "        -2.95568725e+00,  2.28226636e-02,  4.00509947e+00,\n",
       "         4.63531467e+00,  3.93584903e+01, -9.82878838e-01],\n",
       "       [ 2.52455738e+00,  6.48969565e-02, -1.48447651e-01,\n",
       "         1.19893522e+01, -1.50044201e+00, -4.42675478e-01,\n",
       "         4.39486397e-01, -9.82878838e-01,  2.88713032e+01]])"
      ]
     },
     "execution_count": 3,
     "metadata": {},
     "output_type": "execute_result"
    }
   ],
   "source": [
    "np.matmul(np.transpose(X), X)"
   ]
  },
  {
   "cell_type": "code",
   "execution_count": 4,
   "id": "c38f48b7",
   "metadata": {},
   "outputs": [
    {
     "data": {
      "text/plain": [
       "array([[ 2.09832292e-03, -4.75377385e-04, -4.78052175e-05,\n",
       "         1.84240573e-06, -4.01761786e-04, -3.08725004e-04,\n",
       "        -2.23608232e-04, -3.86697569e-04, -2.18797231e-04],\n",
       "       [-4.75377385e-04,  8.58086955e-02, -7.31777142e-03,\n",
       "        -9.14577383e-04, -2.24811485e-03,  8.03970810e-03,\n",
       "         1.83840779e-03,  6.09447084e-03,  3.76784709e-04],\n",
       "       [-4.78052175e-05, -7.31777142e-03,  1.19014542e+00,\n",
       "         1.01194476e-04, -2.44639581e-03, -2.50971610e-02,\n",
       "        -6.59583938e-03, -6.86458742e-03,  5.45274225e-03],\n",
       "       [ 1.84240573e-06, -9.14577383e-04,  1.01194476e-04,\n",
       "         1.24682306e-03, -2.08080082e-04,  4.13165392e-05,\n",
       "        -2.90543488e-04,  3.46058820e-05, -5.19931351e-04],\n",
       "       [-4.01761786e-04, -2.24811485e-03, -2.44639581e-03,\n",
       "        -2.08080082e-04,  1.48451714e-02, -2.21122050e-04,\n",
       "        -1.61237156e-03,  1.23333947e-04,  9.10870599e-04],\n",
       "       [-3.08725004e-04,  8.03970810e-03, -2.50971610e-02,\n",
       "         4.13165392e-05, -2.21122050e-04,  7.86060214e-02,\n",
       "        -8.66150731e-03, -6.02723067e-03,  9.83136178e-04],\n",
       "       [-2.23608232e-04,  1.83840779e-03, -6.59583938e-03,\n",
       "        -2.90543488e-04, -1.61237156e-03, -8.66150731e-03,\n",
       "         8.03549804e-02, -8.39608460e-03, -1.62345513e-03],\n",
       "       [-3.86697569e-04,  6.09447084e-03, -6.86458742e-03,\n",
       "         3.46058820e-05,  1.23333947e-04, -6.02723067e-03,\n",
       "        -8.39608460e-03,  2.76658188e-02,  9.54091139e-04],\n",
       "       [-2.18797231e-04,  3.76784709e-04,  5.45274225e-03,\n",
       "        -5.19931351e-04,  9.10870599e-04,  9.83136178e-04,\n",
       "        -1.62345513e-03,  9.54091139e-04,  3.50183071e-02]])"
      ]
     },
     "execution_count": 4,
     "metadata": {},
     "output_type": "execute_result"
    }
   ],
   "source": [
    "np.linalg.inv(np.matmul(np.transpose(X), X))"
   ]
  },
  {
   "cell_type": "code",
   "execution_count": 5,
   "id": "e8d6f14c",
   "metadata": {
    "scrolled": true
   },
   "outputs": [
    {
     "data": {
      "text/plain": [
       "array([335.0, 4.243115896310715, 0.29612199470208794, 159.1172100488564,\n",
       "       23.320629258993247, 4.681675421454834, 4.5028953342744975,\n",
       "       13.431871604245462, 8.600921416634845], dtype=object)"
      ]
     },
     "execution_count": 5,
     "metadata": {},
     "output_type": "execute_result"
    }
   ],
   "source": [
    "np.matmul(np.transpose(X), Y)"
   ]
  },
  {
   "cell_type": "code",
   "execution_count": 6,
   "id": "4d56b592",
   "metadata": {},
   "outputs": [
    {
     "data": {
      "text/plain": [
       "array([0.6823025959804921, 0.13574371533334223, 0.0719108441204784,\n",
       "       0.18518303895210253, 0.16943134452500655, 0.18118108870169602,\n",
       "       0.04164801787390304, 0.21645128240619993, 0.17972580801252877],\n",
       "      dtype=object)"
      ]
     },
     "execution_count": 6,
     "metadata": {},
     "output_type": "execute_result"
    }
   ],
   "source": [
    "B = np.matmul(np.linalg.inv(np.matmul(np.transpose(X), X)), np.matmul(np.transpose(X), Y))\n",
    "B"
   ]
  },
  {
   "cell_type": "code",
   "execution_count": 7,
   "id": "5f4ac2d2",
   "metadata": {},
   "outputs": [
    {
     "name": "stdout",
     "output_type": "stream",
     "text": [
      "y = 0.682+ (0.136)x_1+ (0.072)x_2+ (0.185)x_3+ (0.169)x_4+ (0.181)x_5+ (0.042)x_6+ (0.216)x_7+ (0.180)x_8\n"
     ]
    }
   ],
   "source": [
    "def predict(x):\n",
    "    y = B[0] + B[1]*x+ B[2]*x+ B[3]*x+ B[4]*x+ B[5]*x+ B[6]*x+ B[7]*x+ B[8]*x\n",
    "    return y\n",
    "\n",
    "\n",
    "eq = f'y = {B[0]:.3f}'\n",
    "for i in range(1, len(B)):\n",
    "    eq = eq + f'+ ({B[i]:.3f})x_{i}'\n",
    "\n",
    "\n",
    "print(eq)\n",
    "\n"
   ]
  },
  {
   "cell_type": "code",
   "execution_count": 8,
   "id": "6bcb3a38",
   "metadata": {},
   "outputs": [
    {
     "ename": "KeyError",
     "evalue": "'predict'",
     "output_type": "error",
     "traceback": [
      "\u001b[1;31m---------------------------------------------------------------------------\u001b[0m",
      "\u001b[1;31mKeyError\u001b[0m                                  Traceback (most recent call last)",
      "\u001b[1;32mc:\\users\\admin\\appdata\\local\\programs\\python\\python39-32\\lib\\site-packages\\pandas\\core\\indexes\\base.py\u001b[0m in \u001b[0;36mget_loc\u001b[1;34m(self, key, method, tolerance)\u001b[0m\n\u001b[0;32m   3079\u001b[0m             \u001b[1;32mtry\u001b[0m\u001b[1;33m:\u001b[0m\u001b[1;33m\u001b[0m\u001b[1;33m\u001b[0m\u001b[0m\n\u001b[1;32m-> 3080\u001b[1;33m                 \u001b[1;32mreturn\u001b[0m \u001b[0mself\u001b[0m\u001b[1;33m.\u001b[0m\u001b[0m_engine\u001b[0m\u001b[1;33m.\u001b[0m\u001b[0mget_loc\u001b[0m\u001b[1;33m(\u001b[0m\u001b[0mcasted_key\u001b[0m\u001b[1;33m)\u001b[0m\u001b[1;33m\u001b[0m\u001b[1;33m\u001b[0m\u001b[0m\n\u001b[0m\u001b[0;32m   3081\u001b[0m             \u001b[1;32mexcept\u001b[0m \u001b[0mKeyError\u001b[0m \u001b[1;32mas\u001b[0m \u001b[0merr\u001b[0m\u001b[1;33m:\u001b[0m\u001b[1;33m\u001b[0m\u001b[1;33m\u001b[0m\u001b[0m\n",
      "\u001b[1;32mpandas\\_libs\\index.pyx\u001b[0m in \u001b[0;36mpandas._libs.index.IndexEngine.get_loc\u001b[1;34m()\u001b[0m\n",
      "\u001b[1;32mpandas\\_libs\\index.pyx\u001b[0m in \u001b[0;36mpandas._libs.index.IndexEngine.get_loc\u001b[1;34m()\u001b[0m\n",
      "\u001b[1;32mpandas\\_libs\\hashtable_class_helper.pxi\u001b[0m in \u001b[0;36mpandas._libs.hashtable.PyObjectHashTable.get_item\u001b[1;34m()\u001b[0m\n",
      "\u001b[1;32mpandas\\_libs\\hashtable_class_helper.pxi\u001b[0m in \u001b[0;36mpandas._libs.hashtable.PyObjectHashTable.get_item\u001b[1;34m()\u001b[0m\n",
      "\u001b[1;31mKeyError\u001b[0m: 'predict'",
      "\nThe above exception was the direct cause of the following exception:\n",
      "\u001b[1;31mKeyError\u001b[0m                                  Traceback (most recent call last)",
      "\u001b[1;32m<ipython-input-8-d0c8f229001e>\u001b[0m in \u001b[0;36m<module>\u001b[1;34m\u001b[0m\n\u001b[1;32m----> 1\u001b[1;33m \u001b[0mdt_train\u001b[0m\u001b[1;33m[\u001b[0m\u001b[1;34m'predict'\u001b[0m\u001b[1;33m]\u001b[0m \u001b[1;33m=\u001b[0m \u001b[0mdt_train\u001b[0m\u001b[1;33m[\u001b[0m\u001b[1;34m'predict'\u001b[0m\u001b[1;33m]\u001b[0m\u001b[1;33m.\u001b[0m\u001b[0mapply\u001b[0m\u001b[1;33m(\u001b[0m\u001b[0mpredict\u001b[0m\u001b[1;33m)\u001b[0m\u001b[1;33m\u001b[0m\u001b[1;33m\u001b[0m\u001b[0m\n\u001b[0m",
      "\u001b[1;32mc:\\users\\admin\\appdata\\local\\programs\\python\\python39-32\\lib\\site-packages\\pandas\\core\\frame.py\u001b[0m in \u001b[0;36m__getitem__\u001b[1;34m(self, key)\u001b[0m\n\u001b[0;32m   3022\u001b[0m             \u001b[1;32mif\u001b[0m \u001b[0mself\u001b[0m\u001b[1;33m.\u001b[0m\u001b[0mcolumns\u001b[0m\u001b[1;33m.\u001b[0m\u001b[0mnlevels\u001b[0m \u001b[1;33m>\u001b[0m \u001b[1;36m1\u001b[0m\u001b[1;33m:\u001b[0m\u001b[1;33m\u001b[0m\u001b[1;33m\u001b[0m\u001b[0m\n\u001b[0;32m   3023\u001b[0m                 \u001b[1;32mreturn\u001b[0m \u001b[0mself\u001b[0m\u001b[1;33m.\u001b[0m\u001b[0m_getitem_multilevel\u001b[0m\u001b[1;33m(\u001b[0m\u001b[0mkey\u001b[0m\u001b[1;33m)\u001b[0m\u001b[1;33m\u001b[0m\u001b[1;33m\u001b[0m\u001b[0m\n\u001b[1;32m-> 3024\u001b[1;33m             \u001b[0mindexer\u001b[0m \u001b[1;33m=\u001b[0m \u001b[0mself\u001b[0m\u001b[1;33m.\u001b[0m\u001b[0mcolumns\u001b[0m\u001b[1;33m.\u001b[0m\u001b[0mget_loc\u001b[0m\u001b[1;33m(\u001b[0m\u001b[0mkey\u001b[0m\u001b[1;33m)\u001b[0m\u001b[1;33m\u001b[0m\u001b[1;33m\u001b[0m\u001b[0m\n\u001b[0m\u001b[0;32m   3025\u001b[0m             \u001b[1;32mif\u001b[0m \u001b[0mis_integer\u001b[0m\u001b[1;33m(\u001b[0m\u001b[0mindexer\u001b[0m\u001b[1;33m)\u001b[0m\u001b[1;33m:\u001b[0m\u001b[1;33m\u001b[0m\u001b[1;33m\u001b[0m\u001b[0m\n\u001b[0;32m   3026\u001b[0m                 \u001b[0mindexer\u001b[0m \u001b[1;33m=\u001b[0m \u001b[1;33m[\u001b[0m\u001b[0mindexer\u001b[0m\u001b[1;33m]\u001b[0m\u001b[1;33m\u001b[0m\u001b[1;33m\u001b[0m\u001b[0m\n",
      "\u001b[1;32mc:\\users\\admin\\appdata\\local\\programs\\python\\python39-32\\lib\\site-packages\\pandas\\core\\indexes\\base.py\u001b[0m in \u001b[0;36mget_loc\u001b[1;34m(self, key, method, tolerance)\u001b[0m\n\u001b[0;32m   3080\u001b[0m                 \u001b[1;32mreturn\u001b[0m \u001b[0mself\u001b[0m\u001b[1;33m.\u001b[0m\u001b[0m_engine\u001b[0m\u001b[1;33m.\u001b[0m\u001b[0mget_loc\u001b[0m\u001b[1;33m(\u001b[0m\u001b[0mcasted_key\u001b[0m\u001b[1;33m)\u001b[0m\u001b[1;33m\u001b[0m\u001b[1;33m\u001b[0m\u001b[0m\n\u001b[0;32m   3081\u001b[0m             \u001b[1;32mexcept\u001b[0m \u001b[0mKeyError\u001b[0m \u001b[1;32mas\u001b[0m \u001b[0merr\u001b[0m\u001b[1;33m:\u001b[0m\u001b[1;33m\u001b[0m\u001b[1;33m\u001b[0m\u001b[0m\n\u001b[1;32m-> 3082\u001b[1;33m                 \u001b[1;32mraise\u001b[0m \u001b[0mKeyError\u001b[0m\u001b[1;33m(\u001b[0m\u001b[0mkey\u001b[0m\u001b[1;33m)\u001b[0m \u001b[1;32mfrom\u001b[0m \u001b[0merr\u001b[0m\u001b[1;33m\u001b[0m\u001b[1;33m\u001b[0m\u001b[0m\n\u001b[0m\u001b[0;32m   3083\u001b[0m \u001b[1;33m\u001b[0m\u001b[0m\n\u001b[0;32m   3084\u001b[0m         \u001b[1;32mif\u001b[0m \u001b[0mtolerance\u001b[0m \u001b[1;32mis\u001b[0m \u001b[1;32mnot\u001b[0m \u001b[1;32mNone\u001b[0m\u001b[1;33m:\u001b[0m\u001b[1;33m\u001b[0m\u001b[1;33m\u001b[0m\u001b[0m\n",
      "\u001b[1;31mKeyError\u001b[0m: 'predict'"
     ]
    }
   ],
   "source": [
    "dt_train['predict'] = dt_train['predict'].apply(predict)"
   ]
  },
  {
   "cell_type": "code",
   "execution_count": null,
   "id": "c70c9911",
   "metadata": {
    "scrolled": true
   },
   "outputs": [],
   "source": [
    "# y_predict\n",
    "dt_train['y_predict'] = B[0] + B[1]*dt_train['Education_WOE'] + B[2]*dt_train['Self_Employed_WOE'] \\\n",
    "        + B[3]*dt_train['Credit_History_WOE'] + B[4]*dt_train['Property_Area_WOE'] + B[5]*dt_train['APPLICANTINCOME_BIN_WOE'] \\\n",
    "        + B[6]*dt_train['COAPPLICANTINCOME_BIN_WOE'] + B[7]*dt_train['LOANAMOUNT_BIN_WOE'] + B[8]*dt_train['LOAN_AMOUNT_TERM_BIN_WOE']\n",
    "\n",
    "dt_train['P'] = 1/(1+np.exp(-dt_train['y_predict']))\n",
    "\n",
    "dt_train['predict'] = dt_train['P'].map(lambda x: 1 if x >= 0.5 else 0)\n",
    "\n",
    "\n",
    "\n",
    "# dt_train['P(y_predict)'] = \n",
    "\n",
    "# s_predict\n",
    "\n",
    "dt_train"
   ]
  },
  {
   "cell_type": "code",
   "execution_count": null,
   "id": "0e82bbf1",
   "metadata": {},
   "outputs": [],
   "source": [
    "n_correct = (dt_train['Loan_Status'] == dt_train['predict']).sum()\n",
    "n_correct"
   ]
  },
  {
   "cell_type": "code",
   "execution_count": null,
   "id": "2a7f836d",
   "metadata": {},
   "outputs": [],
   "source": []
  },
  {
   "cell_type": "code",
   "execution_count": null,
   "id": "2d63b2cd",
   "metadata": {},
   "outputs": [],
   "source": [
    "Predict_y('1')"
   ]
  },
  {
   "cell_type": "code",
   "execution_count": null,
   "id": "e9cdb60c",
   "metadata": {},
   "outputs": [],
   "source": [
    "dt_train['P(y_predict)'] = dt_train['y_predict'].apply(Predict_y)\n",
    "dt_train"
   ]
  },
  {
   "cell_type": "code",
   "execution_count": null,
   "id": "e519e27b",
   "metadata": {},
   "outputs": [],
   "source": [
    "n_correct = (dt_train['Loan_Status'] == dt_train['s_predict']).sum()\n",
    "print('correct is')\n",
    "print(n_correct)\n",
    "\n",
    "\n",
    "accuracy = n_correct/482\n",
    "print('accuracy is')\n",
    "print(accuracy)"
   ]
  },
  {
   "cell_type": "code",
   "execution_count": null,
   "id": "80e279b1",
   "metadata": {},
   "outputs": [],
   "source": []
  }
 ],
 "metadata": {
  "kernelspec": {
   "display_name": "Python 3",
   "language": "python",
   "name": "python3"
  },
  "language_info": {
   "codemirror_mode": {
    "name": "ipython",
    "version": 3
   },
   "file_extension": ".py",
   "mimetype": "text/x-python",
   "name": "python",
   "nbconvert_exporter": "python",
   "pygments_lexer": "ipython3",
   "version": "3.9.5"
  }
 },
 "nbformat": 4,
 "nbformat_minor": 5
}
